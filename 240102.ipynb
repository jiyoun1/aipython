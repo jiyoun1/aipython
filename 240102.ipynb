{
  "nbformat": 4,
  "nbformat_minor": 0,
  "metadata": {
    "colab": {
      "provenance": [],
      "authorship_tag": "ABX9TyPf0wFanxdf0t6noLW2+ELQ",
      "include_colab_link": true
    },
    "kernelspec": {
      "name": "python3",
      "display_name": "Python 3"
    },
    "language_info": {
      "name": "python"
    }
  },
  "cells": [
    {
      "cell_type": "markdown",
      "metadata": {
        "id": "view-in-github",
        "colab_type": "text"
      },
      "source": [
        "<a href=\"https://colab.research.google.com/github/jiyoun1/aipython/blob/main/240102.ipynb\" target=\"_parent\"><img src=\"https://colab.research.google.com/assets/colab-badge.svg\" alt=\"Open In Colab\"/></a>"
      ]
    },
    {
      "cell_type": "code",
      "execution_count": 1,
      "metadata": {
        "colab": {
          "base_uri": "https://localhost:8080/"
        },
        "id": "ffOPREjLr2N4",
        "outputId": "43280f75-3284-4987-9603-4b2e868df2fb"
      },
      "outputs": [
        {
          "output_type": "stream",
          "name": "stdout",
          "text": [
            "우리가 수업하는 실습실:\n",
            "105\n"
          ]
        }
      ],
      "source": [
        "#2-6\n",
        "\n",
        "Lab = 105\n",
        "print(\"우리가 수업하는 실습실:\")\n",
        "print(Lab)"
      ]
    },
    {
      "cell_type": "code",
      "source": [
        "#2-7\n",
        "Lab = 105\n",
        "print(\"우리가 수업하는 실습실:\",Lab)"
      ],
      "metadata": {
        "colab": {
          "base_uri": "https://localhost:8080/"
        },
        "id": "d5bNx_hzB_0t",
        "outputId": "82d3ec58-c843-465f-e5e0-fbff575ccd85"
      },
      "execution_count": 3,
      "outputs": [
        {
          "output_type": "stream",
          "name": "stdout",
          "text": [
            "우리가 수업하는 실습실: 105\n"
          ]
        }
      ]
    },
    {
      "cell_type": "code",
      "source": [
        "#2-8\n",
        "my_id = 202027142\n",
        "grade = 2\n",
        "\n",
        "print(\"나의 학번:\")\n",
        "print(my_id)\n",
        "print(\"학년:\")\n",
        "print(grade)"
      ],
      "metadata": {
        "colab": {
          "base_uri": "https://localhost:8080/"
        },
        "id": "oH3sC5AXCAB9",
        "outputId": "d7f3cf50-e645-4290-c333-8f46b442b6e7"
      },
      "execution_count": 4,
      "outputs": [
        {
          "output_type": "stream",
          "name": "stdout",
          "text": [
            "나의 학번:\n",
            "202027142\n",
            "학년:\n",
            "2\n"
          ]
        }
      ]
    },
    {
      "cell_type": "code",
      "source": [
        "#2-9\n",
        "dollars = 2.75\n",
        "print(\"I have\", dollars, \"in my account.\")\n",
        "\n",
        "dollars = 99.95\n",
        "print(\"But now I have\", dollars,\"in my account!\")"
      ],
      "metadata": {
        "colab": {
          "base_uri": "https://localhost:8080/"
        },
        "id": "t8o-_NAlCAL-",
        "outputId": "e1a8c961-37b7-469a-d63a-0ad203e817b0"
      },
      "execution_count": 5,
      "outputs": [
        {
          "output_type": "stream",
          "name": "stdout",
          "text": [
            "I have 2.75 in my account.\n",
            "But now I have 99.95 in my account!\n"
          ]
        }
      ]
    },
    {
      "cell_type": "code",
      "source": [
        "#2-10\n",
        "department = \"국어국문학과\"\n",
        "name = \"홍길동\"\n",
        "\n",
        "print(department,name)"
      ],
      "metadata": {
        "colab": {
          "base_uri": "https://localhost:8080/"
        },
        "id": "1DAHLEh5DABl",
        "outputId": "85ca7432-ddb2-4ef4-ae13-0d815a4e3f48"
      },
      "execution_count": 7,
      "outputs": [
        {
          "output_type": "stream",
          "name": "stdout",
          "text": [
            "국어국문학과 홍길동\n"
          ]
        }
      ]
    },
    {
      "cell_type": "code",
      "source": [
        "#2-11\n",
        "department = input(\"학과명:\")\n",
        "\n",
        "name = input(\"성명:\")\n",
        "\n",
        "print(\"안녕하세요\", department, name)"
      ],
      "metadata": {
        "colab": {
          "base_uri": "https://localhost:8080/"
        },
        "id": "ZQOe2UuaDAIm",
        "outputId": "4d8aa884-1e92-4b91-ef08-c27544aa2b93"
      },
      "execution_count": 8,
      "outputs": [
        {
          "output_type": "stream",
          "name": "stdout",
          "text": [
            "학과명:국어국문학과\n",
            "성명:홍길동\n",
            "안녕하세요 국어국문학과 홍길동\n"
          ]
        }
      ]
    },
    {
      "cell_type": "code",
      "source": [
        "#2-12\n",
        "name = input(\"당신의 이름은 무엇입니까? \")\n",
        "age = int(input(\"나이는 어떻게 되시나요? \"))\n",
        "attending_time = float(input(\"통학시간은 얼마나 걸립니까? \"))\n",
        "\n",
        "print(\"입력 정보는 다음과 같습니다.\")\n",
        "print(\"이름:\", name)\n",
        "print(\"나이:\", age)\n",
        "print(\"통학시간:\", attending_time)"
      ],
      "metadata": {
        "colab": {
          "base_uri": "https://localhost:8080/"
        },
        "id": "1F2aP1yJDAOu",
        "outputId": "3ec95263-fe8b-4d3b-a628-50ad5cd800f6"
      },
      "execution_count": 9,
      "outputs": [
        {
          "output_type": "stream",
          "name": "stdout",
          "text": [
            "당신의 이름은 무엇입니까? 홍길동\n",
            "나이는 어떻게 되시나요? 20\n",
            "통학시간은 얼마나 걸립니까? 2\n",
            "입력 정보는 다음과 같습니다.\n",
            "이름: 홍길동\n",
            "나이: 20\n",
            "통학시간: 2.0\n"
          ]
        }
      ]
    },
    {
      "cell_type": "code",
      "source": [
        "#2-13\n",
        "salary = 2500.0\n",
        "bonus = 1200.0\n",
        "pay = salary + bonus\n",
        "print(\"총 급여:\", pay)"
      ],
      "metadata": {
        "colab": {
          "base_uri": "https://localhost:8080/"
        },
        "id": "7DtetWvfDAVW",
        "outputId": "0f6fea4f-5e29-4028-a787-08b3eb59ab4b"
      },
      "execution_count": 10,
      "outputs": [
        {
          "output_type": "stream",
          "name": "stdout",
          "text": [
            "총 급여: 3700.0\n"
          ]
        }
      ]
    },
    {
      "cell_type": "code",
      "source": [
        "#2-14\n",
        "original_price = float(input(\"제품의 원가를 입력해주세요: \"))\n",
        "discount = original_price * 0.2\n",
        "sale_price = original_price - discount\n",
        "print(\"할인가격: \", sale_price)"
      ],
      "metadata": {
        "colab": {
          "base_uri": "https://localhost:8080/"
        },
        "id": "D8tYkLH_EqCC",
        "outputId": "6aad6162-086e-46ea-9617-fe5944e3f62f"
      },
      "execution_count": 12,
      "outputs": [
        {
          "output_type": "stream",
          "name": "stdout",
          "text": [
            "제품의 원가를 입력해주세요: 100\n",
            "할인가격:  80.0\n"
          ]
        }
      ]
    },
    {
      "cell_type": "code",
      "source": [
        "#2-15\n",
        "test1 = float(input(\"첫 번째 과목 점수를 입력해주세요:\"))\n",
        "test2 = float(input(\"두 번째 과목 점수를 입력해주세요:\"))\n",
        "test3 = float(input(\"세 번째 과목 점수를 입력해주세요:\"))\n",
        "\n",
        "average = (test1 + test2 + test3) / 3.0\n",
        "\n",
        "print(\"3 과목의 평균 점수:\", average)"
      ],
      "metadata": {
        "colab": {
          "base_uri": "https://localhost:8080/"
        },
        "id": "UZFpgHCFEqNR",
        "outputId": "9d1cbcc2-baeb-4b81-8f50-3214ebb06ccf"
      },
      "execution_count": 13,
      "outputs": [
        {
          "output_type": "stream",
          "name": "stdout",
          "text": [
            "첫 번째 과목 점수를 입력해주세요:90\n",
            "두 번째 과목 점수를 입력해주세요:80\n",
            "세 번째 과목 점수를 입력해주세요:10\n",
            "3 과목의 평균 점수: 60.0\n"
          ]
        }
      ]
    },
    {
      "cell_type": "code",
      "source": [
        "#2-16\n",
        "total_seconds = float(input(\"시간 값을 초 단위로 입력해주세요:\"))\n",
        "hours = total_seconds // 3600\n",
        "minutes = (total_seconds // 60) % 60\n",
        "seconds = total_seconds % 60\n",
        "\n",
        "print(\"시 분 초는 다음과 같습니다.\")\n",
        "print(\"시:\", hours)\n",
        "print(\"분:\", minutes)\n",
        "print(\"초:\", seconds)"
      ],
      "metadata": {
        "colab": {
          "base_uri": "https://localhost:8080/"
        },
        "id": "_Lc9BP28EqVh",
        "outputId": "ab72c819-6439-41f0-847d-60d96d46f46a"
      },
      "execution_count": 14,
      "outputs": [
        {
          "output_type": "stream",
          "name": "stdout",
          "text": [
            "시간 값을 초 단위로 입력해주세요:11730\n",
            "시 분 초는 다음과 같습니다.\n",
            "시: 3.0\n",
            "분: 15.0\n",
            "초: 30.0\n"
          ]
        }
      ]
    },
    {
      "cell_type": "code",
      "source": [
        "#2-17\n",
        "future_value = float(input(\"목표 금액을 입력해주세요:\"))\n",
        "rate = float(input(\"연간 이율을 입력해주세요:\"))\n",
        "years = int(input(\"저축 기간을 연 단위로 입력해주세요:\"))\n",
        "present_value = future_value / (1.0 + rate)**years\n",
        "\n",
        "print(\"적립 금액: \", present_value)"
      ],
      "metadata": {
        "colab": {
          "base_uri": "https://localhost:8080/"
        },
        "id": "IrUw0VOPFhb1",
        "outputId": "c74c73e7-1393-4eaf-e56d-0dc16b685390"
      },
      "execution_count": 15,
      "outputs": [
        {
          "output_type": "stream",
          "name": "stdout",
          "text": [
            "목표 금액을 입력해주세요:10000\n",
            "연간 이율을 입력해주세요:0.05\n",
            "저축 기간을 연 단위로 입력해주세요:10\n",
            "적립 금액:  6139.132535407592\n"
          ]
        }
      ]
    },
    {
      "cell_type": "code",
      "source": [
        "#2-18\n",
        "print('a','b','c')\n",
        "print('a','b','c',sep='')\n",
        "print('a','b','c',sep='***')"
      ],
      "metadata": {
        "colab": {
          "base_uri": "https://localhost:8080/"
        },
        "id": "bncR17t8Fhee",
        "outputId": "5a030c32-ba22-4be3-b454-ef2f6d279576"
      },
      "execution_count": 18,
      "outputs": [
        {
          "output_type": "stream",
          "name": "stdout",
          "text": [
            "a b c\n",
            "abc\n",
            "a***b***c\n"
          ]
        }
      ]
    },
    {
      "cell_type": "code",
      "source": [
        "#2-19\n",
        "print('a')\n",
        "print('b')\n",
        "print('c',end='')\n",
        "print('d',end='')\n",
        "print('e',end='***')\n",
        "print('f')"
      ],
      "metadata": {
        "colab": {
          "base_uri": "https://localhost:8080/"
        },
        "id": "zID8W3DXFhiN",
        "outputId": "aa4292c0-b722-41a4-ad87-e641a34d50e2"
      },
      "execution_count": 19,
      "outputs": [
        {
          "output_type": "stream",
          "name": "stdout",
          "text": [
            "a\n",
            "b\n",
            "cde***f\n"
          ]
        }
      ]
    },
    {
      "cell_type": "code",
      "source": [
        "#2-20\n",
        "amount_due = 5000.0\n",
        "monthly_payment = amount_due / 12.0\n",
        "print(\"월급여:\", monthly_payment)"
      ],
      "metadata": {
        "colab": {
          "base_uri": "https://localhost:8080/"
        },
        "id": "3NpMZP55Fhmf",
        "outputId": "e17c80f5-7e80-4337-9587-11cf5827556f"
      },
      "execution_count": 20,
      "outputs": [
        {
          "output_type": "stream",
          "name": "stdout",
          "text": [
            "월급여: 416.6666666666667\n"
          ]
        }
      ]
    },
    {
      "cell_type": "code",
      "source": [
        "#2-21\n",
        "amount_due = 5000.0\n",
        "monthly_payment = amount_due / 12\n",
        "print(\"월급여:\", format(monthly_payment, '.2f'))"
      ],
      "metadata": {
        "colab": {
          "base_uri": "https://localhost:8080/"
        },
        "id": "NMgOuAYYHdln",
        "outputId": "f26edf3c-26d7-41f9-f791-ce32243029e4"
      },
      "execution_count": 21,
      "outputs": [
        {
          "output_type": "stream",
          "name": "stdout",
          "text": [
            "월급여: 416.67\n"
          ]
        }
      ]
    },
    {
      "cell_type": "code",
      "source": [
        "#2-22\n",
        "monthly_pay = 5000.0\n",
        "annual_pay = monthly_pay * 12\n",
        "print(\"Your annnual pay is $\", format(annual_pay, ',.2f'), sep ='')"
      ],
      "metadata": {
        "colab": {
          "base_uri": "https://localhost:8080/"
        },
        "id": "AQ08v__MHqLI",
        "outputId": "0095fbb8-9316-40c7-8de6-d22c9d1e20d7"
      },
      "execution_count": 24,
      "outputs": [
        {
          "output_type": "stream",
          "name": "stdout",
          "text": [
            "Your annnual pay is $60,000.00\n"
          ]
        }
      ]
    },
    {
      "cell_type": "code",
      "source": [
        "#2-23\n",
        "num1 = 127.899\n",
        "num2 = 3465.148\n",
        "num3 = 3.776\n",
        "num4 = 264.821\n",
        "num5 = 88.081\n",
        "num6 = 799.999\n",
        "\n",
        "print(format(num1, '7.2f'))\n",
        "print(format(num2, '7.2f'))\n",
        "print(format(num3, '7.2f'))\n",
        "print(format(num4, '7.2f'))\n",
        "print(format(num5, '7.2f'))\n",
        "print(format(num6, '7.2f'))"
      ],
      "metadata": {
        "colab": {
          "base_uri": "https://localhost:8080/"
        },
        "id": "aHm9XOdKH_rF",
        "outputId": "75d76f35-7059-4096-ff01-7492a0ea5501"
      },
      "execution_count": 25,
      "outputs": [
        {
          "output_type": "stream",
          "name": "stdout",
          "text": [
            " 127.90\n",
            "3465.15\n",
            "   3.78\n",
            " 264.82\n",
            "  88.08\n",
            " 800.00\n"
          ]
        }
      ]
    },
    {
      "cell_type": "code",
      "source": [],
      "metadata": {
        "id": "HxKdMVYOInVt"
      },
      "execution_count": null,
      "outputs": []
    }
  ]
}