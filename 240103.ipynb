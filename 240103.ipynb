{
  "nbformat": 4,
  "nbformat_minor": 0,
  "metadata": {
    "colab": {
      "provenance": [],
      "authorship_tag": "ABX9TyN6QLGRtYuHQ6tFpGXvB3KG",
      "include_colab_link": true
    },
    "kernelspec": {
      "name": "python3",
      "display_name": "Python 3"
    },
    "language_info": {
      "name": "python"
    }
  },
  "cells": [
    {
      "cell_type": "markdown",
      "metadata": {
        "id": "view-in-github",
        "colab_type": "text"
      },
      "source": [
        "<a href=\"https://colab.research.google.com/github/jiyoun1/aipython/blob/main/240103.ipynb\" target=\"_parent\"><img src=\"https://colab.research.google.com/assets/colab-badge.svg\" alt=\"Open In Colab\"/></a>"
      ]
    },
    {
      "cell_type": "code",
      "execution_count": null,
      "metadata": {
        "id": "kayPMaRCWXmS"
      },
      "outputs": [],
      "source": [
        "BASE_SIZE = 8\n",
        "\n",
        "for r in range(BASE_SIZE):\n",
        "  for c in range(r+1):\n",
        "    print(\"*\",end=\"\")\n",
        "   print()"
      ]
    },
    {
      "cell_type": "code",
      "source": [
        "BASE_SIZE = 8\n",
        "\n",
        "for r in range(BASE_SIZE):\n",
        "  for c in range(8-r):\n",
        "    print(\"*\",end=\"\")\n",
        "  print()"
      ],
      "metadata": {
        "colab": {
          "base_uri": "https://localhost:8080/"
        },
        "id": "lBIdhEpeWxyL",
        "outputId": "0e3f6ac9-6548-4851-83a8-6b301397f451"
      },
      "execution_count": 3,
      "outputs": [
        {
          "output_type": "stream",
          "name": "stdout",
          "text": [
            "********\n",
            "*******\n",
            "******\n",
            "*****\n",
            "****\n",
            "***\n",
            "**\n",
            "*\n"
          ]
        }
      ]
    }
  ]
}