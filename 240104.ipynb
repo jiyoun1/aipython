{
  "nbformat": 4,
  "nbformat_minor": 0,
  "metadata": {
    "colab": {
      "provenance": [],
      "authorship_tag": "ABX9TyMVk6Z8yubyo7Hmb2podeGY",
      "include_colab_link": true
    },
    "kernelspec": {
      "name": "python3",
      "display_name": "Python 3"
    },
    "language_info": {
      "name": "python"
    }
  },
  "cells": [
    {
      "cell_type": "markdown",
      "metadata": {
        "id": "view-in-github",
        "colab_type": "text"
      },
      "source": [
        "<a href=\"https://colab.research.google.com/github/jiyoun1/aipython/blob/main/240104.ipynb\" target=\"_parent\"><img src=\"https://colab.research.google.com/assets/colab-badge.svg\" alt=\"Open In Colab\"/></a>"
      ]
    },
    {
      "cell_type": "code",
      "source": [
        "score = []\n",
        "\n",
        "i = 0\n",
        "while True:\n",
        "  a= input(\"학생의 점수를 입력하세요\")\n",
        "\n",
        "  if a.isdigit():\n",
        "    score.insert(i,int(a))\n",
        "    i+=1\n",
        "  else:\n",
        "    break\n",
        "s = sum(score)\n",
        "n = len(score)\n",
        "avg = s/n\n",
        "print(\"입력 데이터 출력:\", score)\n",
        "print(\"합계:\", s)\n",
        "print(\"인원수:\", n)\n",
        "print(\"평균: %.2f\" %avg)"
      ],
      "metadata": {
        "colab": {
          "base_uri": "https://localhost:8080/"
        },
        "id": "Z-Tiz_G5cpo0",
        "outputId": "c7cf000e-26a3-4e44-8aaa-d4f272e3ce7d"
      },
      "execution_count": 8,
      "outputs": [
        {
          "output_type": "stream",
          "name": "stdout",
          "text": [
            "학생의 점수를 입력하세요90\n",
            "학생의 점수를 입력하세요70\n",
            "학생의 점수를 입력하세요30\n",
            "학생의 점수를 입력하세요x\n",
            "입력 데이터 출력: [90, 70, 30]\n",
            "합계: 190\n",
            "인원수: 3\n",
            "평균: 63.33\n"
          ]
        }
      ]
    },
    {
      "cell_type": "code",
      "source": [],
      "metadata": {
        "id": "RKikxbEigEy9"
      },
      "execution_count": null,
      "outputs": []
    }
  ]
}