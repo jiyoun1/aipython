{
  "nbformat": 4,
  "nbformat_minor": 0,
  "metadata": {
    "colab": {
      "provenance": [],
      "authorship_tag": "ABX9TyPytHqnhSHS9Zvp6XD1AUFh",
      "include_colab_link": true
    },
    "kernelspec": {
      "name": "python3",
      "display_name": "Python 3"
    },
    "language_info": {
      "name": "python"
    }
  },
  "cells": [
    {
      "cell_type": "markdown",
      "metadata": {
        "id": "view-in-github",
        "colab_type": "text"
      },
      "source": [
        "<a href=\"https://colab.research.google.com/github/jiyoun1/aipython/blob/main/hello.ipynb\" target=\"_parent\"><img src=\"https://colab.research.google.com/assets/colab-badge.svg\" alt=\"Open In Colab\"/></a>"
      ]
    },
    {
      "cell_type": "markdown",
      "source": [
        "헬로우월드 출력코드"
      ],
      "metadata": {
        "id": "ErwTMqlsLdaQ"
      }
    },
    {
      "cell_type": "code",
      "execution_count": 2,
      "metadata": {
        "colab": {
          "base_uri": "https://localhost:8080/"
        },
        "id": "M3EcFLaPLKm5",
        "outputId": "43e90671-8072-4d05-9249-4e87cf6d794a"
      },
      "outputs": [
        {
          "output_type": "stream",
          "name": "stdout",
          "text": [
            "Helloworld\n"
          ]
        }
      ],
      "source": [
        "#출력하기\n",
        "print(\"Helloworld\")"
      ]
    },
    {
      "source": [
        "# 두 정수 A와 B를 입력받습니다.\n",
        "A, B = map(int, input().split())\n",
        "\n",
        "# A가 B보다 크면 \"A가 B보다 크다\"를 출력합니다.\n",
        "if A > B:\n",
        "  print(\">\")\n",
        "\n",
        "# A가 B보다 작으면 \"A가 B보다 작다\"를 출력합니다.\n",
        "elif A < B:\n",
        "  print(\"<\")\n",
        "\n",
        "# A와 B가 같으면 \"A와 B가 같다\"를 출력합니다.\n",
        "else:\n",
        "  print(\"==\")"
      ],
      "cell_type": "code",
      "metadata": {
        "colab": {
          "base_uri": "https://localhost:8080/"
        },
        "id": "Nmr1c_RGPMxP",
        "outputId": "1127b28c-9810-4d67-cf83-124c4cb09f09"
      },
      "execution_count": 5,
      "outputs": [
        {
          "output_type": "stream",
          "name": "stdout",
          "text": [
            "1 2\n",
            "<\n"
          ]
        }
      ]
    }
  ]
}